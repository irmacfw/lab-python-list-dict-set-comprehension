{
 "cells": [
  {
   "cell_type": "markdown",
   "id": "25d7736c-ba17-4aff-b6bb-66eba20fbf4e",
   "metadata": {},
   "source": [
    "# Lab | List, Dict and Set Comprehension"
   ]
  },
  {
   "cell_type": "markdown",
   "id": "7dd3cbde-675a-4b81-92c3-f728846dbe06",
   "metadata": {},
   "source": [
    "## Exercise: Managing Customer Orders Optimized with Comprehension"
   ]
  },
  {
   "cell_type": "markdown",
   "id": "5d500160-2fb7-4777-b5e4-09d45ebaf328",
   "metadata": {},
   "source": [
    "In the previous exercise, you developed a program to manage customer orders and inventory. Now, let's take it a step further and incorporate comprehension into your code.\n",
    "\n",
    "Follow the steps below to complete the exercise:\n",
    "\n",
    "1. Review your code from the previous exercise and identify areas where you can apply comprehension to simplify and streamline your code. \n",
    "\n",
    "    - *Hint: Apply it to initialize inventory, updating the inventory and printing the updated inventory.*\n",
    "    \n",
    "    - For example, in initializing the inventory, we could have:\n",
    "    \n",
    "        ```python\n",
    "        def initialize_inventory(products):\n",
    "            inventory = {product: int(input(f\"Enter the quantity of {product}s available: \")) for product in products}\n",
    "            return inventory\n",
    "\n",
    "        ```\n",
    "<br>\n",
    "    \n",
    "    \n",
    "2. Modify the function get_customer_orders so it prompts the user to enter the number of customer orders and gathers the product names using a loop and user input. Use comprehension.\n",
    "\n",
    "3. Add a new function to calculate the total price of the customer order. For each product in customer_orders, prompt the user to enter the price of that product. Use comprehension to calculate the total price. Note: assume that the user can only have 1 unit of each product.\n",
    "\n",
    "4. Modify the update_inventory function to remove the product from the inventory if its quantity becomes zero after fulfilling the customer orders. Use comprehension to filter out the products with a quantity of zero from the inventory.\n",
    "\n",
    "5. Print the total price of the customer order.\n",
    "\n",
    "Your code should produce output similar to the following:\n",
    "\n",
    "```python\n",
    "Enter the quantity of t-shirts available:  5\n",
    "Enter the quantity of mugs available:  4\n",
    "Enter the quantity of hats available:  3\n",
    "Enter the quantity of books available:  2\n",
    "Enter the quantity of keychains available:  1\n",
    "Enter the number of customer orders:  2\n",
    "Enter the name of a product that a customer wants to order:  hat\n",
    "Enter the name of a product that a customer wants to order:  keychain\n",
    "\n",
    "Order Statistics:\n",
    "Total Products Ordered: 2\n",
    "Percentage of Unique Products Ordered: 40.0\n",
    "\n",
    "Updated Inventory:\n",
    "t-shirt: 5\n",
    "mug: 4\n",
    "hat: 2\n",
    "book: 2\n",
    "Enter the price of keychain:  5\n",
    "Enter the price of hat:  10\n",
    "Total Price: 15.0\n",
    "\n",
    "```\n"
   ]
  },
  {
   "cell_type": "code",
   "execution_count": 1,
   "id": "559fdfcc-7bb7-4ad2-aea4-71f984d46b1d",
   "metadata": {},
   "outputs": [],
   "source": [
    "# Base Products \n",
    "\n",
    "products = [\"t-shirt\", \"mug\", \"hat\", \"book\", \"keychain\"]"
   ]
  },
  {
   "cell_type": "code",
   "execution_count": 13,
   "id": "b894817f-52bb-4d0d-a9b3-ae58941c581f",
   "metadata": {},
   "outputs": [],
   "source": [
    "#1 initialize-inventory(products) dict comprehension\n",
    "\n",
    "def initialize_inventory(products):\n",
    "    \"\"\"\n",
    "    Build the inventory dict using a dict comprehension.\n",
    "    Ask the user once per product.\n",
    "    \"\"\"\n",
    "    inventory = {p: int(input(f\"Enter the quantity of {p} available: \")) for p in products}\n",
    "    return inventory"
   ]
  },
  {
   "cell_type": "code",
   "execution_count": 15,
   "id": "be37ceea-7c07-4fad-a74d-e5d456836386",
   "metadata": {},
   "outputs": [],
   "source": [
    "#2 get customer_orders(products)- loop + comprehension.\n",
    "\n",
    "def get_customer_orders(products):\n",
    "    \"\"\"\n",
    "    Ask how many items will be ordered, collect names, keep only valid products.\n",
    "    Uses a list comp to collect inputs and a set comp to keep unique valid names.\n",
    "    \"\"\"\n",
    "    n = int(input(\"How many products wants the customer order? \"))\n",
    "    entered = [input(\"Enter product name:\") for _ in range (n)]\n",
    "    customer_orders = {name for name in entered if name in products}\n",
    "    return customer_orders\n",
    "   "
   ]
  },
  {
   "cell_type": "code",
   "execution_count": 25,
   "id": "09627fb0-f01a-4aa8-8752-f69524d551db",
   "metadata": {},
   "outputs": [],
   "source": [
    "#3 update_inventory(customer_orders,inventory)-dict comprehension\n",
    "\n",
    "def update_inventory(customer_orders, inventory):\n",
    "    \"\"\"\n",
    "    Substract 1 from ordered items (if present) and drop zero-quantity items. \n",
    "    Uses dict comprehension.\n",
    "    \"\"\"\n",
    "    # apply -1 when the key is in customer_orders\n",
    "    updated = {i: (v-1 if i in customer_orders else v) for i, v in inventory.items()}\n",
    "    # remove items that reached 0\n",
    "    cleaned = {i: v for i, v in updated.items() if v > 0}\n",
    "    return cleaned \n"
   ]
  },
  {
   "cell_type": "code",
   "execution_count": 20,
   "id": "d6211785-018c-45ef-ab36-a0f69ee77b36",
   "metadata": {},
   "outputs": [],
   "source": [
    "#4 calculate_total_price(customer_orders)- dict + sum comprehension\n",
    "\n",
    "def calculate_total_price(customer_orders):\n",
    "    \"\"\"\n",
    "    Ask price per ordered product (1 unit each). Return (total, price_dict).\n",
    "    Uses dict comp + sum over values. \n",
    "    \"\"\"\n",
    "    if not customer_orders:\n",
    "        return (0,0, {})\n",
    "    prices = {p: float(input(f\"Enter the price for {p}: \")) for p in customer_orders}\n",
    "    total = sum(prices.values())\n",
    "    return (total, prices)"
   ]
  },
  {
   "cell_type": "code",
   "execution_count": 28,
   "id": "a34aa67f-7283-4ec9-a42c-34836e6dc32f",
   "metadata": {},
   "outputs": [],
   "source": [
    "#5 print_updated_inventory(inventory)\n",
    "\n",
    "def print_update_inventory(inventory):\n",
    "    print(\"Updated inventory:\")\n",
    "    for i, v in inventory.items():\n",
    "        print(i, \":\", v)"
   ]
  },
  {
   "cell_type": "code",
   "execution_count": 29,
   "id": "78e75299-33b4-4ff8-8eec-c2e261537047",
   "metadata": {},
   "outputs": [],
   "source": [
    "#6 print_total(total)\n",
    "\n",
    "def print_total(total):\n",
    "    print(\"Total price of the customer order:\", total)\n",
    "    "
   ]
  },
  {
   "cell_type": "code",
   "execution_count": 30,
   "id": "4e05a8c9-deb2-4b04-b5a6-f01e1f9e141b",
   "metadata": {},
   "outputs": [
    {
     "name": "stdin",
     "output_type": "stream",
     "text": [
      "Enter the quantity of t-shirt available:  2\n",
      "Enter the quantity of mug available:  2\n",
      "Enter the quantity of hat available:  2\n",
      "Enter the quantity of book available:  2\n",
      "Enter the quantity of keychain available:  2\n",
      "How many products wants the customer order?  1\n",
      "Enter product name: hat\n",
      "Enter the price for hat:  5\n"
     ]
    },
    {
     "name": "stdout",
     "output_type": "stream",
     "text": [
      "Total price of the customer order: 5.0\n",
      "Updated inventory:\n",
      "t-shirt : 2\n",
      "mug : 2\n",
      "hat : 1\n",
      "book : 2\n",
      "keychain : 2\n"
     ]
    }
   ],
   "source": [
    "#Initialize\n",
    "inventory = initialize_inventory(products)\n",
    "\n",
    "# Orders\n",
    "customer_orders = get_customer_orders(products)\n",
    "\n",
    "# Total price for the order (asume 1 unit per product)\n",
    "total, prices = calculate_total_price(customer_orders)\n",
    "\n",
    "# Update inventory (remove zeros)\n",
    "inventory = update_inventory(customer_orders, inventory)\n",
    "\n",
    "# Output\n",
    "print_total(total)\n",
    "print_update_inventory(inventory)\n",
    "\n"
   ]
  },
  {
   "cell_type": "code",
   "execution_count": null,
   "id": "b7a7bd7c-c097-4b06-9570-3c0279bd151e",
   "metadata": {},
   "outputs": [],
   "source": []
  }
 ],
 "metadata": {
  "kernelspec": {
   "display_name": "Python 3 (ipykernel)",
   "language": "python",
   "name": "python3"
  },
  "language_info": {
   "codemirror_mode": {
    "name": "ipython",
    "version": 3
   },
   "file_extension": ".py",
   "mimetype": "text/x-python",
   "name": "python",
   "nbconvert_exporter": "python",
   "pygments_lexer": "ipython3",
   "version": "3.13.5"
  }
 },
 "nbformat": 4,
 "nbformat_minor": 5
}
